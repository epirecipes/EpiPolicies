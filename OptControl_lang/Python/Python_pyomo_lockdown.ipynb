{
 "cells": [
  {
   "cell_type": "code",
   "execution_count": 1,
   "metadata": {},
   "outputs": [],
   "source": [
    "from pyomo.environ import *\n",
    "import numpy as np\n",
    "import pandas as pd\n",
    "import matplotlib.pyplot as plt\n"
   ]
  },
  {
   "cell_type": "code",
   "execution_count": 2,
   "metadata": {},
   "outputs": [],
   "source": [
    "# Create a Pyomo model\n",
    "model = ConcreteModel()"
   ]
  },
  {
   "cell_type": "code",
   "execution_count": 3,
   "metadata": {},
   "outputs": [],
   "source": [
    "model.beta = Param(initialize=0.5)      # Infectivity rate\n",
    "model.gamma = Param(initialize=0.25)    # Recovery rate\n",
    "model.v_max = Param(initialize=0.5)     # Maximum intervention\n",
    "model.v_total = Param(initialize=10.0)  # Maximum cost\n",
    "model.t0 = Param(initialize=0.0)\n",
    "model.tf = Param(initialize=100.0)\n",
    "model.dt = Param(initialize=2.0)\n",
    "model.S0 = Param(initialize=0.99)\n",
    "model.I0 = Param(initialize=0.01)\n",
    "model.C0 = Param(initialize=0.00)"
   ]
  },
  {
   "cell_type": "code",
   "execution_count": 4,
   "metadata": {},
   "outputs": [],
   "source": [
    "model.T = Param(initialize=lambda m: int(m.tf / m.dt))"
   ]
  },
  {
   "cell_type": "code",
   "execution_count": 5,
   "metadata": {},
   "outputs": [],
   "source": [
    "model.T_set = RangeSet(1, model.T + 1)\n",
    "model.T_range = RangeSet(1, model.T)"
   ]
  },
  {
   "cell_type": "code",
   "execution_count": 6,
   "metadata": {},
   "outputs": [],
   "source": [
    "model.S = Var(model.T_set, bounds=(0, 1))\n",
    "model.I = Var(model.T_set, bounds=(0, 1))\n",
    "model.C = Var(model.T_set, bounds=(0, 1))\n",
    "model.v = Var(model.T_set, bounds=(0, model.v_max))"
   ]
  },
  {
   "cell_type": "code",
   "execution_count": 7,
   "metadata": {},
   "outputs": [],
   "source": [
    "# Initial conditions\n",
    "def initial_condition_S_rule(m):\n",
    "    return m.S[1] == m.S0\n",
    "model.InitialConditionS = Constraint(rule=initial_condition_S_rule)\n",
    "\n",
    "def initial_condition_I_rule(m):\n",
    "    return m.I[1] == m.I0\n",
    "model.InitialConditionI = Constraint(rule=initial_condition_I_rule)\n",
    "\n",
    "def initial_condition_C_rule(m):\n",
    "    return m.C[1] == m.C0\n",
    "model.InitialConditionC = Constraint(rule=initial_condition_C_rule)\n"
   ]
  },
  {
   "cell_type": "code",
   "execution_count": 8,
   "metadata": {},
   "outputs": [],
   "source": [
    "# Total intervention cost constraint\n",
    "def total_cost_rule(m):\n",
    "    return m.dt * sum(m.v[t] for t in m.T_set) <= m.v_total\n",
    "model.TotalCostConstraint = Constraint(rule=total_cost_rule)\n"
   ]
  },
  {
   "cell_type": "code",
   "execution_count": 9,
   "metadata": {},
   "outputs": [],
   "source": [
    "# Nonlinear expressions for infection and recovery rates\n",
    "model.infection = Var(model.T_range, bounds=(0, None))\n",
    "model.recovery = Var(model.T_range, bounds=(0, None))"
   ]
  },
  {
   "cell_type": "code",
   "execution_count": 10,
   "metadata": {},
   "outputs": [],
   "source": [
    "# Define infection and recovery explicitly as constraints\n",
    "def infection_rule(m, t):\n",
    "    return m.infection[t] == (1 - exp(-(1 - m.v[t]) * m.beta * m.I[t] * m.dt)) * m.S[t]\n",
    "model.DefineInfection = Constraint(model.T_range, rule=infection_rule)\n",
    "\n",
    "def recovery_rule(m, t):\n",
    "    return m.recovery[t] == (1 - exp(-m.gamma * m.dt)) * m.I[t]\n",
    "model.DefineRecovery = Constraint(model.T_range, rule=recovery_rule)\n"
   ]
  },
  {
   "cell_type": "code",
   "execution_count": 11,
   "metadata": {},
   "outputs": [],
   "source": [
    "# Nonlinear differential equations\n",
    "def susceptible_rule(m, t):\n",
    "    return m.S[t + 1] == m.S[t] - m.infection[t]\n",
    "model.SusceptibleConstraint = Constraint(model.T_range, rule=susceptible_rule)\n",
    "\n",
    "def infected_rule(m, t):\n",
    "    return m.I[t + 1] == m.I[t] + m.infection[t] - m.recovery[t]\n",
    "model.InfectedConstraint = Constraint(model.T_range, rule=infected_rule)\n",
    "\n",
    "def cumulative_infection_rule(m, t):\n",
    "    return m.C[t + 1] == m.C[t] + m.infection[t]\n",
    "model.CumulativeInfectionConstraint = Constraint(model.T_range, rule=cumulative_infection_rule)\n"
   ]
  },
  {
   "cell_type": "code",
   "execution_count": 12,
   "metadata": {},
   "outputs": [],
   "source": [
    "# Objective: Minimize cumulative infections at the final time\n",
    "def objective_rule(m):\n",
    "    return m.C[m.T + 1]\n",
    "model.TotalCumulativeInfections = Objective(rule=objective_rule, sense=minimize)\n"
   ]
  },
  {
   "cell_type": "code",
   "execution_count": 13,
   "metadata": {},
   "outputs": [],
   "source": [
    "solver = SolverFactory(\"ipopt\")\n",
    "solver.options[\"output_file\"] = \"pyomo_ipopt_log.txt\"  \n",
    "solver.options[\"print_timing_statistics\"] = \"yes\""
   ]
  },
  {
   "cell_type": "code",
   "execution_count": 14,
   "metadata": {},
   "outputs": [
    {
     "name": "stdout",
     "output_type": "stream",
     "text": [
      "Ipopt 3.14.17: output_file=pyomo_ipopt_log.txt\n",
      "print_timing_statistics=yes\n",
      "\n",
      "\n",
      "******************************************************************************\n",
      "This program contains Ipopt, a library for large-scale nonlinear optimization.\n",
      " Ipopt is released as open source code under the Eclipse Public License (EPL).\n",
      "         For more information visit https://github.com/coin-or/Ipopt\n",
      "******************************************************************************\n",
      "\n",
      "This is Ipopt version 3.14.17, running with linear solver MUMPS 5.6.2.\n",
      "\n",
      "Number of nonzeros in equality constraint Jacobian...:      803\n",
      "Number of nonzeros in inequality constraint Jacobian.:       51\n",
      "Number of nonzeros in Lagrangian Hessian.............:      250\n",
      "\n",
      "Total number of variables............................:      304\n",
      "                     variables with only lower bounds:      100\n",
      "                variables with lower and upper bounds:      204\n",
      "                     variables with only upper bounds:        0\n",
      "Total number of equality constraints.................:      253\n",
      "Total number of inequality constraints...............:        1\n",
      "        inequality constraints with only lower bounds:        0\n",
      "   inequality constraints with lower and upper bounds:        0\n",
      "        inequality constraints with only upper bounds:        1\n",
      "\n",
      "iter    objective    inf_pr   inf_du lg(mu)  ||d||  lg(rg) alpha_du alpha_pr  ls\n",
      "   0  9.9999900e-03 9.80e-01 9.95e-01  -1.0 0.00e+00    -  0.00e+00 0.00e+00   0\n",
      "   1  3.8752245e-01 1.01e-02 2.09e+03  -1.0 8.98e+00    -  1.11e-02 9.90e-01f  1\n",
      "   2  4.5393339e-01 9.23e-03 1.92e+03  -1.0 1.09e+00    -  5.18e-02 8.39e-02h  1\n",
      "   3  5.0338659e-01 8.56e-03 1.78e+03  -1.0 4.55e+00    -  2.96e-01 7.41e-02h  1\n",
      "   4  5.9325874e-01 7.37e-03 1.53e+03  -1.0 9.16e-01    -  3.57e-01 1.45e-01h  1\n",
      "   5  6.3627046e-01 6.32e-03 1.31e+03  -1.0 6.38e-01    -  4.55e-01 1.48e-01h  1\n",
      "   6  6.7307666e-01 5.31e-03 1.23e+03  -1.0 5.94e-01    -  5.30e-01 1.70e-01h  1\n",
      "   7  7.1508092e-01 4.31e-03 1.72e+03  -1.0 5.69e-01    -  5.82e-01 2.03e-01h  1\n",
      "   8  7.6229762e-01 3.49e-03 2.24e+03  -1.0 6.13e-01    -  5.78e-01 2.14e-01h  1\n",
      "   9  8.2695602e-01 6.39e-03 2.64e+03  -1.0 7.25e-01    -  4.84e-01 2.06e-01h  1\n",
      "iter    objective    inf_pr   inf_du lg(mu)  ||d||  lg(rg) alpha_du alpha_pr  ls\n",
      "  10  8.3019489e-01 5.30e-03 5.40e+03  -1.0 4.08e-01   2.0 1.00e+00 1.77e-01h  1\n",
      "  11  8.3102695e-01 5.07e-03 7.64e+03  -1.0 8.19e-01   1.5 5.64e-01 4.41e-02h  1\n",
      "  12  8.3247160e-01 4.88e-03 7.67e+03  -1.0 3.63e+00   1.0 1.05e-01 3.90e-02h  1\n",
      "  13  8.3422635e-01 4.82e-03 7.83e+03  -1.0 4.12e+00   0.6 6.09e-02 1.21e-02h  1\n",
      "  14  8.3595228e-01 4.68e-03 8.42e+03  -1.0 3.43e+00   1.0 1.91e-01 3.11e-02h  1\n",
      "  15  8.4091292e-01 4.60e-03 2.56e+04  -1.0 3.30e+00   0.5 2.26e-01 2.04e-02h  1\n",
      "  16  8.4301420e-01 4.57e-03 3.81e+05  -1.0 2.21e+00   0.9 3.26e-01 7.12e-03h  1\n",
      "  17  8.4364536e-01 4.57e-03 1.37e+06  -1.0 6.73e+01   1.4 3.44e-03 5.33e-05h  5\n",
      "  18  8.4373258e-01 4.57e-03 1.70e+06  -1.0 7.78e+02   0.9 3.14e-04 6.45e-07f 10\n",
      "  19  8.4651863e-01 4.56e-03 1.92e+06  -1.0 1.53e+03    -  1.85e-04 1.05e-05f  5\n",
      "iter    objective    inf_pr   inf_du lg(mu)  ||d||  lg(rg) alpha_du alpha_pr  ls\n",
      "  20  8.4915714e-01 4.54e-03 2.93e+06  -1.0 6.00e+02    -  6.98e-04 2.67e-05f  5\n",
      "  21  8.5165852e-01 4.52e-03 6.70e+06  -1.0 3.42e+02    -  1.62e-03 4.68e-05f  5\n",
      "  22r 8.5165852e-01 4.52e-03 1.00e+03  -1.0 0.00e+00    -  0.00e+00 4.35e-07R 12\n",
      "  23r 8.4349964e-01 2.11e-03 9.16e+02  -1.0 2.87e-01    -  3.52e-01 3.58e-02f  1\n",
      "  24  8.4351825e-01 2.11e-03 2.66e+00  -1.7 2.76e-01    -  2.15e-03 6.17e-04h  1\n",
      "  25  8.4352851e-01 2.10e-03 3.63e+03  -1.7 1.96e+00    -  3.30e-01 4.32e-04h  1\n",
      "  26  8.4420871e-01 2.10e-03 1.72e+05  -1.7 2.60e+01    -  8.71e-03 1.81e-04h  1\n",
      "  27r 8.4420871e-01 2.10e-03 1.00e+03  -1.7 0.00e+00    -  0.00e+00 2.65e-07R  7\n",
      "  28r 8.4175528e-01 2.13e-03 9.90e+02  -1.7 2.92e-01    -  1.78e-01 9.74e-03f  1\n",
      "  29r 8.4944513e-01 3.08e-03 8.14e+02  -1.7 1.46e-01    -  2.79e-01 1.77e-01f  1\n",
      "iter    objective    inf_pr   inf_du lg(mu)  ||d||  lg(rg) alpha_du alpha_pr  ls\n",
      "  30r 8.5246661e-01 2.66e-03 7.00e+02  -1.7 1.31e-01    -  1.73e-01 1.39e-01f  1\n",
      "  31r 8.5599364e-01 2.82e-03 5.79e+02  -1.7 1.46e-01    -  2.96e-01 1.71e-01f  1\n",
      "  32r 8.6057699e-01 5.14e-03 4.51e+02  -1.7 1.77e-01    -  2.13e-01 2.21e-01f  1\n",
      "  33r 8.6158639e-01 4.53e-03 4.26e+02  -1.7 1.86e-01    -  1.11e-02 7.58e-02f  1\n",
      "  34r 8.6247472e-01 6.07e-03 4.03e+02  -1.7 1.93e-01    -  4.98e-02 5.99e-02f  1\n",
      "  35r 8.6301895e-01 7.60e-03 3.49e+02  -1.7 1.81e-01    -  2.90e-01 5.39e-02f  1\n",
      "  36r 8.6718332e-01 6.66e-03 2.39e+02  -1.7 2.74e-01    -  8.76e-01 1.82e-01f  1\n",
      "  37r 8.8290208e-01 2.40e-02 1.86e+02  -1.7 1.24e+00    -  2.92e-01 2.13e-01f  1\n",
      "  38r 8.9142069e-01 1.77e-02 1.17e+02  -1.7 3.89e-01    -  3.46e-01 3.74e-01f  1\n",
      "  39r 9.0187778e-01 3.65e-02 4.82e+01  -1.7 3.49e-01    -  7.94e-01 9.38e-01f  1\n",
      "iter    objective    inf_pr   inf_du lg(mu)  ||d||  lg(rg) alpha_du alpha_pr  ls\n",
      "  40r 9.0372157e-01 3.22e-02 3.56e+01  -1.7 5.39e-01    -  1.41e-01 1.11e-01f  1\n",
      "  41r 9.0407209e-01 2.03e-02 1.41e+02  -1.7 6.55e-01    -  2.17e-01 5.46e-01f  1\n",
      "  42r 9.0426564e-01 1.74e-02 1.43e+02  -1.7 4.11e-01   0.0 6.71e-01 1.46e-01f  1\n",
      "  43r 9.0655231e-01 1.66e-02 1.50e+02  -1.7 9.37e-01  -0.5 1.15e-01 7.42e-02f  2\n",
      "  44r 9.0268996e-01 1.52e-02 1.17e+02  -1.7 6.67e+00  -0.1 1.80e-02 5.06e-02f  1\n",
      "  45r 8.8043137e-01 9.63e-03 2.01e+02  -1.7 2.49e-01   0.4 3.40e-01 8.26e-01f  1\n",
      "  46r 8.6314323e-01 1.05e-02 1.74e+02  -1.7 7.55e-01  -0.1 2.17e-01 4.46e-01f  1\n",
      "  47r 8.5540864e-01 9.11e-03 1.44e+02  -1.7 2.33e+00    -  1.38e-01 1.22e-01f  1\n",
      "  48r 8.5076922e-01 9.14e-03 1.52e+02  -1.7 1.04e+02    -  1.73e-03 3.05e-03f  1\n",
      "  49r 8.4510264e-01 7.50e-03 1.01e+02  -1.7 8.29e-01    -  2.71e-01 2.09e-01f  1\n",
      "iter    objective    inf_pr   inf_du lg(mu)  ||d||  lg(rg) alpha_du alpha_pr  ls\n",
      "  50r 8.2786299e-01 7.17e-03 2.71e+01  -1.7 2.49e-01   0.3 8.29e-01 1.00e+00f  1\n",
      "  51r 8.2179509e-01 7.31e-03 4.19e+00  -1.7 8.84e-02   0.7 1.00e+00 1.00e+00f  1\n",
      "  52r 8.1343925e-01 7.75e-03 6.89e+01  -1.7 2.33e-01   0.3 4.80e-01 1.00e+00f  1\n",
      "  53r 8.1207846e-01 7.79e-03 5.71e+01  -1.7 8.17e+01  -0.2 2.17e-03 1.33e-03f  2\n",
      "  54r 8.0950981e-01 7.90e-03 6.69e+01  -1.7 2.51e+00    -  1.64e-01 8.87e-02f  1\n",
      "  55r 8.0411823e-01 8.10e-03 1.29e+01  -1.7 1.31e-01   0.2 1.00e+00 9.16e-01f  1\n",
      "  56r 8.0274689e-01 8.61e-03 3.84e+01  -1.7 5.41e-01  -0.3 4.77e-01 3.88e-01f  1\n",
      "  57r 7.9821666e-01 8.69e-03 8.81e-01  -1.7 7.39e-02   1.1 1.00e+00 1.00e+00f  1\n",
      "  58r 7.9561430e-01 9.15e-03 4.07e+00  -1.7 5.35e-02   0.6 9.16e-01 1.00e+00f  1\n",
      "  59r 7.9460347e-01 9.18e-03 7.88e-01  -1.7 3.99e-02   1.0 1.00e+00 1.00e+00f  1\n",
      "iter    objective    inf_pr   inf_du lg(mu)  ||d||  lg(rg) alpha_du alpha_pr  ls\n",
      "  60r 7.9368513e-01 9.87e-03 3.32e+00  -2.5 7.55e-02   0.5 7.25e-01 7.08e-01f  1\n",
      "  61r 7.9296296e-01 9.81e-03 4.18e+01  -2.5 7.42e-02   0.1 8.71e-01 7.39e-01f  1\n",
      "  62r 7.9256379e-01 9.77e-03 7.38e-02  -2.5 2.46e-02   0.5 1.00e+00 1.00e+00f  1\n",
      "  63r 7.9414913e-01 9.69e-03 1.39e+01  -3.8 9.29e-02   0.0 6.31e-01 7.77e-01f  1\n",
      "  64r 7.9505967e-01 9.61e-03 1.11e+01  -3.8 6.50e-02   0.4 6.78e-01 4.60e-01f  1\n",
      "  65r 7.9557662e-01 9.50e-03 1.92e-01  -3.8 2.62e-02   0.9 1.00e+00 1.00e+00f  1\n",
      "  66r 7.9688751e-01 9.37e-03 2.90e+01  -3.8 1.72e-01   0.4 8.04e-01 2.55e-01f  1\n",
      "  67r 7.9828750e-01 9.15e-03 4.27e-01  -3.8 5.68e-02   0.8 1.00e+00 1.00e+00f  1\n",
      "  68r 7.9959444e-01 8.98e-03 4.32e-01  -3.8 2.46e-02   1.2 1.00e+00 1.00e+00f  1\n",
      "  69r 8.0120105e-01 8.77e-03 4.36e+01  -3.8 1.45e-01   0.8 1.00e+00 2.39e-01f  1\n",
      "iter    objective    inf_pr   inf_du lg(mu)  ||d||  lg(rg) alpha_du alpha_pr  ls\n",
      "  70r 8.0284407e-01 8.43e-03 7.01e-01  -3.8 4.49e-02   1.2 1.00e+00 1.00e+00f  1\n",
      "  71r 8.0736494e-01 7.63e-03 3.66e+01  -3.8 1.07e+00   0.7 1.49e-01 7.87e-02f  1\n",
      "  72r 8.0939380e-01 7.01e-03 8.65e+01  -3.8 1.80e-01   1.1 1.00e+00 2.00e-01f  1\n",
      "  73r 8.1073792e-01 6.42e-03 7.96e+00  -3.8 4.83e-02   1.6 1.00e+00 4.44e-01f  1\n",
      "  74r 8.1313870e-01 5.48e-03 4.51e+01  -3.8 1.02e+00   1.1 1.54e-01 3.77e-02f  1\n",
      "  75r 8.1775838e-01 2.37e-03 4.25e+00  -3.8 1.04e-01   1.5 1.00e+00 8.88e-01f  1\n",
      "  76r 8.1894398e-01 6.10e-04 1.15e+01  -3.8 5.33e-02   1.9 1.00e+00 5.80e-01f  1\n",
      "  77  8.1260305e-01 7.12e-04 3.80e+04  -1.7 1.18e-01    -  5.23e-01 1.00e+00f  1\n",
      "  78  7.9898606e-01 1.54e-03 1.33e+05  -1.7 1.69e+00    -  3.63e-01 2.81e-01f  1\n",
      "  79  7.7543706e-01 1.43e-03 2.69e+05  -1.7 1.89e-01    -  7.05e-01 9.28e-01f  1\n",
      "iter    objective    inf_pr   inf_du lg(mu)  ||d||  lg(rg) alpha_du alpha_pr  ls\n",
      "  80  7.7346728e-01 3.14e-04 1.32e+04  -1.7 2.03e-01    -  1.00e+00 8.67e-01f  1\n",
      "  81  7.7425845e-01 1.36e-04 1.45e-02  -1.7 6.14e-02    -  1.00e+00 1.00e+00f  1\n",
      "  82  7.7313791e-01 3.67e-06 2.11e+05  -5.7 2.11e-02    -  8.95e-01 1.00e+00h  1\n",
      "  83  7.5868336e-01 6.19e-04 1.04e+05  -5.7 2.30e-01    -  5.05e-01 1.00e+00f  1\n",
      "  84  7.5125650e-01 5.21e-04 4.08e+04  -5.7 2.27e-01    -  6.08e-01 4.85e-01h  1\n",
      "  85  7.4358223e-01 7.25e-04 3.44e+04  -5.7 1.00e+00    -  1.58e-01 3.46e-01h  1\n",
      "  86  7.3935254e-01 4.47e-04 2.05e+04  -5.7 2.27e-01    -  4.04e-01 5.17e-01h  1\n",
      "  87  7.3636046e-01 3.11e-04 3.19e+03  -5.7 5.15e-01    -  8.44e-01 4.19e-01h  1\n",
      "  88  7.3235818e-01 1.30e-04 1.57e+03  -5.7 2.67e-01    -  5.06e-01 7.68e-01h  1\n",
      "  89  7.3111165e-01 3.63e-06 1.72e-03  -5.7 5.12e-02    -  1.00e+00 1.00e+00h  1\n",
      "iter    objective    inf_pr   inf_du lg(mu)  ||d||  lg(rg) alpha_du alpha_pr  ls\n",
      "  90  7.3108416e-01 5.04e-09 1.30e-06  -5.7 9.45e-04    -  1.00e+00 1.00e+00h  1\n",
      "  91  7.3099347e-01 5.11e-08 9.07e+00  -8.6 3.16e-03    -  9.95e-01 9.46e-01h  1\n",
      "  92  7.3098832e-01 6.10e-11 1.24e-08  -8.6 9.71e-05    -  1.00e+00 1.00e+00f  1\n",
      "  93  7.3098823e-01 3.78e-14 3.15e-12  -9.0 2.57e-06    -  1.00e+00 1.00e+00h  1\n",
      "\n",
      "Number of Iterations....: 93\n",
      "\n",
      "                                   (scaled)                 (unscaled)\n",
      "Objective...............:   7.3098823270824675e-01    7.3098823270824675e-01\n",
      "Dual infeasibility......:   3.1525422461707765e-12    3.1525422461707765e-12\n",
      "Constraint violation....:   3.7763195348539114e-14    3.7763195348539114e-14\n",
      "Variable bound violation:   0.0000000000000000e+00    0.0000000000000000e+00\n",
      "Complementarity.........:   9.3573877481160045e-10    9.3573877481160045e-10\n",
      "Overall NLP error.......:   9.3573877481160045e-10    9.3573877481160045e-10\n",
      "\n",
      "\n",
      "Number of objective function evaluations             = 150\n",
      "Number of objective gradient evaluations             = 46\n",
      "Number of equality constraint evaluations            = 150\n",
      "Number of inequality constraint evaluations          = 150\n",
      "Number of equality constraint Jacobian evaluations   = 96\n",
      "Number of inequality constraint Jacobian evaluations = 96\n",
      "Number of Lagrangian Hessian evaluations             = 93\n",
      "Total seconds in IPOPT (w/o function evaluations)    =      0.048\n",
      "Total seconds in NLP function evaluations            =      0.002\n",
      "\n",
      "\n",
      "Timing Statistics:\n",
      "\n",
      "OverallAlgorithm....................:      0.045 (sys:      0.004 wall:      0.051)\n",
      " PrintProblemStatistics.............:      0.000 (sys:      0.000 wall:      0.000)\n",
      " InitializeIterates.................:      0.001 (sys:      0.001 wall:      0.003)\n",
      " UpdateHessian......................:      0.001 (sys:      0.000 wall:      0.001)\n",
      " OutputIteration....................:      0.000 (sys:      0.000 wall:      0.000)\n",
      " UpdateBarrierParameter.............:      0.000 (sys:      0.000 wall:      0.000)\n",
      " ComputeSearchDirection.............:      0.013 (sys:      0.001 wall:      0.014)\n",
      " ComputeAcceptableTrialPoint........:      0.029 (sys:      0.002 wall:      0.031)\n",
      " AcceptTrialPoint...................:      0.000 (sys:      0.000 wall:      0.000)\n",
      " CheckConvergence...................:      0.001 (sys:      0.000 wall:      0.001)\n",
      "PDSystemSolverTotal.................:      0.013 (sys:      0.001 wall:      0.014)\n",
      " PDSystemSolverSolveOnce............:      0.012 (sys:      0.001 wall:      0.013)\n",
      " ComputeResiduals...................:      0.000 (sys:      0.000 wall:      0.000)\n",
      " StdAugSystemSolverMultiSolve.......:      0.029 (sys:      0.003 wall:      0.033)\n",
      " LinearSystemScaling................:      0.000 (sys:      0.000 wall:      0.000)\n",
      " LinearSystemSymbolicFactorization..:      0.000 (sys:      0.000 wall:      0.001)\n",
      " LinearSystemFactorization..........:      0.000 (sys:      0.000 wall:      0.000)\n",
      " LinearSystemBackSolve..............:      0.011 (sys:      0.001 wall:      0.012)\n",
      " LinearSystemStructureConverter.....:      0.000 (sys:      0.000 wall:      0.000)\n",
      "  LinearSystemStructureConverterInit:      0.000 (sys:      0.000 wall:      0.000)\n",
      "QualityFunctionSearch...............:      0.000 (sys:      0.000 wall:      0.000)\n",
      "TryCorrector........................:      0.000 (sys:      0.000 wall:      0.000)\n",
      "Task1...............................:      0.000 (sys:      0.000 wall:      0.000)\n",
      "Task2...............................:      0.000 (sys:      0.000 wall:      0.000)\n",
      "Task3...............................:      0.000 (sys:      0.000 wall:      0.000)\n",
      "Task4...............................:      0.000 (sys:      0.000 wall:      0.000)\n",
      "Task5...............................:      0.000 (sys:      0.000 wall:      0.000)\n",
      "Task6...............................:      0.000 (sys:      0.000 wall:      0.000)\n",
      "Function Evaluations................:      0.002 (sys:      0.000 wall:      0.002)\n",
      " Objective function.................:      0.000 (sys:      0.000 wall:      0.000)\n",
      " Objective function gradient........:      0.000 (sys:      0.000 wall:      0.000)\n",
      " Equality constraints...............:      0.001 (sys:      0.000 wall:      0.001)\n",
      " Inequality constraints.............:      0.000 (sys:      0.000 wall:      0.000)\n",
      " Equality constraint Jacobian.......:      0.000 (sys:      0.000 wall:      0.000)\n",
      " Inequality constraint Jacobian.....:      0.000 (sys:      0.000 wall:      0.000)\n",
      " Lagrangian Hessian.................:      0.001 (sys:      0.000 wall:      0.001)\n",
      "\n",
      "EXIT: Optimal Solution Found.\n"
     ]
    },
    {
     "data": {
      "text/plain": [
       "{'Problem': [{'Lower bound': -inf, 'Upper bound': inf, 'Number of objectives': 1, 'Number of constraints': 254, 'Number of variables': 304, 'Sense': 'unknown'}], 'Solver': [{'Status': 'ok', 'Message': 'Ipopt 3.14.17\\\\x3a Optimal Solution Found', 'Termination condition': 'optimal', 'Id': 0, 'Error rc': 0, 'Time': 0.07893800735473633}], 'Solution': [OrderedDict({'number of solutions': 0, 'number of solutions displayed': 0})]}"
      ]
     },
     "execution_count": 14,
     "metadata": {},
     "output_type": "execute_result"
    }
   ],
   "source": [
    "solver.solve(model, tee=True)"
   ]
  },
  {
   "cell_type": "code",
   "execution_count": 15,
   "metadata": {},
   "outputs": [],
   "source": [
    "S_opt = [model.S[t].value for t in range(1,model.T+2)]\n",
    "I_opt = [model.I[t].value for t in range(1,model.T+2)]\n",
    "C_opt = [model.C[t].value for t in range(1,model.T+2)]\n",
    "υ_opt = [model.v[t].value for t in range(1,model.T+2)]\n",
    "\n",
    "ts = np.arange(0, model.tf + model.dt, model.dt)\n",
    "\n",
    "t1 = 14.338623046875002\n",
    "t2 = t1 + model.v_total / model.v_max"
   ]
  },
  {
   "cell_type": "code",
   "execution_count": 16,
   "metadata": {},
   "outputs": [
    {
     "data": {
      "image/png": "[encoded data removed]",
      "text/plain": [
       "<Figure size 1000x600 with 1 Axes>"
      ]
     },
     "metadata": {},
     "output_type": "display_data"
    }
   ],
   "source": [
    "# Plotting\n",
    "plt.figure(figsize=(10, 6))\n",
    "plt.plot(ts, S_opt, label=\"S\", color=\"blue\")\n",
    "plt.plot(ts, I_opt, label=\"I\", color=\"red\")\n",
    "plt.plot(ts, C_opt, label=\"C\", color=\"green\")\n",
    "plt.plot(ts, υ_opt, label=\"υ\", color=\"purple\", linestyle=\"dashed\")\n",
    "plt.axvspan(t1, t2, color=\"gray\", alpha=0.5, label=\"Exact υ\")\n",
    "plt.xlabel(\"Time\")\n",
    "plt.ylabel(\"Population / Control\")\n",
    "plt.ylim(0, 1)\n",
    "plt.yticks(np.arange(0, 1.1, step=0.25))\n",
    "plt.xlim(0, 100)\n",
    "plt.title(\"Optimized SIR Model with Control\")\n",
    "plt.legend()\n",
    "plt.grid()\n",
    "plt.show()"
   ]
  },
  {
   "cell_type": "code",
   "execution_count": 17,
   "metadata": {},
   "outputs": [],
   "source": [
    "# Timesteps are consistent with the ones in the model\n",
    "timesteps = np.arange(1, model.T + 2) \n",
    "\n",
    "# Extract values from the DataFrame using the index\n",
    "data = pd.DataFrame({\n",
    "    \"timestep\": timesteps,\n",
    "    \"S\": S_opt,\n",
    "    \"I\": I_opt,\n",
    "    \"C\": C_opt,\n",
    "    \"υ\": υ_opt\n",
    "})\n",
    "\n",
    "# Save to CSV\n",
    "data.to_csv(\"pyomo_results.csv\", index=False)"
   ]
  },
  {
   "cell_type": "code",
   "execution_count": null,
   "metadata": {},
   "outputs": [],
   "source": []
  }
 ],
 "metadata": {
  "kernelspec": {
   "display_name": "base",
   "language": "python",
   "name": "python3"
  },
  "language_info": {
   "codemirror_mode": {
    "name": "ipython",
    "version": 3
   },
   "file_extension": ".py",
   "mimetype": "text/x-python",
   "name": "python",
   "nbconvert_exporter": "python",
   "pygments_lexer": "ipython3",
   "version": "3.12.8"
  }
 },
 "nbformat": 4,
 "nbformat_minor": 2
}
